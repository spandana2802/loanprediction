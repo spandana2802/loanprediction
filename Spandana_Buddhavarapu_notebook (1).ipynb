{
 "cells": [
  {
   "cell_type": "code",
   "execution_count": 1,
   "metadata": {},
   "outputs": [],
   "source": [
    "import sqlite3\n",
    "import pandas as pd\n",
    "import numpy as np\n",
    "import re\n",
    "import matplotlib.pyplot as plt\n",
    "from sklearn.ensemble import RandomForestClassifier\n",
    "from collections import Counter\n",
    "import seaborn as sns"
   ]
  },
  {
   "cell_type": "code",
   "execution_count": 2,
   "metadata": {},
   "outputs": [
    {
     "data": {
      "text/html": [
       "<div>\n",
       "<style scoped>\n",
       "    .dataframe tbody tr th:only-of-type {\n",
       "        vertical-align: middle;\n",
       "    }\n",
       "\n",
       "    .dataframe tbody tr th {\n",
       "        vertical-align: top;\n",
       "    }\n",
       "\n",
       "    .dataframe thead th {\n",
       "        text-align: right;\n",
       "    }\n",
       "</style>\n",
       "<table border=\"1\" class=\"dataframe\">\n",
       "  <thead>\n",
       "    <tr style=\"text-align: right;\">\n",
       "      <th></th>\n",
       "      <th>type</th>\n",
       "      <th>name</th>\n",
       "      <th>tbl_name</th>\n",
       "      <th>rootpage</th>\n",
       "      <th>sql</th>\n",
       "    </tr>\n",
       "  </thead>\n",
       "  <tbody>\n",
       "    <tr>\n",
       "      <th>0</th>\n",
       "      <td>table</td>\n",
       "      <td>loan_information</td>\n",
       "      <td>loan_information</td>\n",
       "      <td>2</td>\n",
       "      <td>CREATE TABLE \"loan_information\" (\\n\"loan_id\" I...</td>\n",
       "    </tr>\n",
       "    <tr>\n",
       "      <th>1</th>\n",
       "      <td>table</td>\n",
       "      <td>enteprise_information</td>\n",
       "      <td>enteprise_information</td>\n",
       "      <td>4</td>\n",
       "      <td>CREATE TABLE \"enteprise_information\" (\\n\"enter...</td>\n",
       "    </tr>\n",
       "    <tr>\n",
       "      <th>2</th>\n",
       "      <td>table</td>\n",
       "      <td>scores_information</td>\n",
       "      <td>scores_information</td>\n",
       "      <td>8</td>\n",
       "      <td>CREATE TABLE \"scores_information\" (\\n\"loan_id\"...</td>\n",
       "    </tr>\n",
       "    <tr>\n",
       "      <th>3</th>\n",
       "      <td>table</td>\n",
       "      <td>disbursements_information</td>\n",
       "      <td>disbursements_information</td>\n",
       "      <td>10</td>\n",
       "      <td>CREATE TABLE \"disbursements_information\" (\\n\"a...</td>\n",
       "    </tr>\n",
       "  </tbody>\n",
       "</table>\n",
       "</div>"
      ],
      "text/plain": [
       "    type                       name                   tbl_name  rootpage  \\\n",
       "0  table           loan_information           loan_information         2   \n",
       "1  table      enteprise_information      enteprise_information         4   \n",
       "2  table         scores_information         scores_information         8   \n",
       "3  table  disbursements_information  disbursements_information        10   \n",
       "\n",
       "                                                 sql  \n",
       "0  CREATE TABLE \"loan_information\" (\\n\"loan_id\" I...  \n",
       "1  CREATE TABLE \"enteprise_information\" (\\n\"enter...  \n",
       "2  CREATE TABLE \"scores_information\" (\\n\"loan_id\"...  \n",
       "3  CREATE TABLE \"disbursements_information\" (\\n\"a...  "
      ]
     },
     "execution_count": 2,
     "metadata": {},
     "output_type": "execute_result"
    }
   ],
   "source": [
    "database = 'kinara.db'\n",
    "conn = sqlite3.connect(database)\n",
    "\n",
    "tables = pd.read_sql(\"\"\"SELECT *\n",
    "                        FROM sqlite_master\n",
    "                        WHERE type='table';\"\"\", conn)\n",
    "tables"
   ]
  },
  {
   "cell_type": "code",
   "execution_count": 3,
   "metadata": {
    "scrolled": true
   },
   "outputs": [
    {
     "data": {
      "text/html": [
       "<div>\n",
       "<style scoped>\n",
       "    .dataframe tbody tr th:only-of-type {\n",
       "        vertical-align: middle;\n",
       "    }\n",
       "\n",
       "    .dataframe tbody tr th {\n",
       "        vertical-align: top;\n",
       "    }\n",
       "\n",
       "    .dataframe thead th {\n",
       "        text-align: right;\n",
       "    }\n",
       "</style>\n",
       "<table border=\"1\" class=\"dataframe\">\n",
       "  <thead>\n",
       "    <tr style=\"text-align: right;\">\n",
       "      <th></th>\n",
       "      <th>loan_id</th>\n",
       "      <th>account_number</th>\n",
       "      <th>customer_id</th>\n",
       "      <th>enterprise_id</th>\n",
       "      <th>screening_date</th>\n",
       "      <th>product_code</th>\n",
       "      <th>hub_id</th>\n",
       "    </tr>\n",
       "  </thead>\n",
       "  <tbody>\n",
       "    <tr>\n",
       "      <th>918</th>\n",
       "      <td>9532</td>\n",
       "      <td>TLWCU0001514</td>\n",
       "      <td>20134</td>\n",
       "      <td>7067</td>\n",
       "      <td>2017-03-22</td>\n",
       "      <td>TLWCU</td>\n",
       "      <td>33</td>\n",
       "    </tr>\n",
       "    <tr>\n",
       "      <th>330</th>\n",
       "      <td>8936</td>\n",
       "      <td>TLWCU0001426</td>\n",
       "      <td>18609</td>\n",
       "      <td>6539</td>\n",
       "      <td>2017-03-13</td>\n",
       "      <td>TLWCU</td>\n",
       "      <td>22</td>\n",
       "    </tr>\n",
       "    <tr>\n",
       "      <th>2376</th>\n",
       "      <td>11007</td>\n",
       "      <td>TLWCU0002026</td>\n",
       "      <td>24164</td>\n",
       "      <td>8423</td>\n",
       "      <td>2017-05-22</td>\n",
       "      <td>TLWCU</td>\n",
       "      <td>69</td>\n",
       "    </tr>\n",
       "    <tr>\n",
       "      <th>1652</th>\n",
       "      <td>10279</td>\n",
       "      <td>TLWCU0001872</td>\n",
       "      <td>22021</td>\n",
       "      <td>7726</td>\n",
       "      <td>2017-04-21</td>\n",
       "      <td>TLWCU</td>\n",
       "      <td>35</td>\n",
       "    </tr>\n",
       "    <tr>\n",
       "      <th>2658</th>\n",
       "      <td>15931</td>\n",
       "      <td>None</td>\n",
       "      <td>37145</td>\n",
       "      <td>12711</td>\n",
       "      <td>2017-05-23</td>\n",
       "      <td>None</td>\n",
       "      <td>40</td>\n",
       "    </tr>\n",
       "  </tbody>\n",
       "</table>\n",
       "</div>"
      ],
      "text/plain": [
       "      loan_id account_number  customer_id  enterprise_id screening_date  \\\n",
       "918      9532   TLWCU0001514        20134           7067     2017-03-22   \n",
       "330      8936   TLWCU0001426        18609           6539     2017-03-13   \n",
       "2376    11007   TLWCU0002026        24164           8423     2017-05-22   \n",
       "1652    10279   TLWCU0001872        22021           7726     2017-04-21   \n",
       "2658    15931           None        37145          12711     2017-05-23   \n",
       "\n",
       "     product_code  hub_id  \n",
       "918         TLWCU      33  \n",
       "330         TLWCU      22  \n",
       "2376        TLWCU      69  \n",
       "1652        TLWCU      35  \n",
       "2658         None      40  "
      ]
     },
     "execution_count": 3,
     "metadata": {},
     "output_type": "execute_result"
    }
   ],
   "source": [
    "loan_information = pd.read_sql(\"\"\"SELECT *\n",
    "                        FROM loan_information\"\"\", conn)\n",
    "loan_information.sample(5)"
   ]
  },
  {
   "cell_type": "code",
   "execution_count": 4,
   "metadata": {
    "scrolled": true
   },
   "outputs": [
    {
     "data": {
      "text/html": [
       "<div>\n",
       "<style scoped>\n",
       "    .dataframe tbody tr th:only-of-type {\n",
       "        vertical-align: middle;\n",
       "    }\n",
       "\n",
       "    .dataframe tbody tr th {\n",
       "        vertical-align: top;\n",
       "    }\n",
       "\n",
       "    .dataframe thead th {\n",
       "        text-align: right;\n",
       "    }\n",
       "</style>\n",
       "<table border=\"1\" class=\"dataframe\">\n",
       "  <thead>\n",
       "    <tr style=\"text-align: right;\">\n",
       "      <th></th>\n",
       "      <th>enterprise_id</th>\n",
       "      <th>business_type</th>\n",
       "      <th>business_activity</th>\n",
       "      <th>business_sector</th>\n",
       "    </tr>\n",
       "  </thead>\n",
       "  <tbody>\n",
       "    <tr>\n",
       "      <th>1705</th>\n",
       "      <td>7750</td>\n",
       "      <td>Manufacturing</td>\n",
       "      <td>Sales</td>\n",
       "      <td>Auto Components</td>\n",
       "    </tr>\n",
       "    <tr>\n",
       "      <th>107</th>\n",
       "      <td>1018</td>\n",
       "      <td>Manufacturing</td>\n",
       "      <td>Sales</td>\n",
       "      <td>Wood</td>\n",
       "    </tr>\n",
       "    <tr>\n",
       "      <th>1690</th>\n",
       "      <td>7735</td>\n",
       "      <td>Trading</td>\n",
       "      <td>Retail</td>\n",
       "      <td>Electricals</td>\n",
       "    </tr>\n",
       "    <tr>\n",
       "      <th>193</th>\n",
       "      <td>1849</td>\n",
       "      <td>Manufacturing</td>\n",
       "      <td>Job Work</td>\n",
       "      <td>Auto Components</td>\n",
       "    </tr>\n",
       "    <tr>\n",
       "      <th>1226</th>\n",
       "      <td>7215</td>\n",
       "      <td>Manufacturing</td>\n",
       "      <td>Sales</td>\n",
       "      <td>Medical Equipment</td>\n",
       "    </tr>\n",
       "  </tbody>\n",
       "</table>\n",
       "</div>"
      ],
      "text/plain": [
       "      enterprise_id  business_type business_activity    business_sector\n",
       "1705           7750  Manufacturing             Sales    Auto Components\n",
       "107            1018  Manufacturing             Sales               Wood\n",
       "1690           7735        Trading            Retail        Electricals\n",
       "193            1849  Manufacturing          Job Work    Auto Components\n",
       "1226           7215  Manufacturing             Sales  Medical Equipment"
      ]
     },
     "execution_count": 4,
     "metadata": {},
     "output_type": "execute_result"
    }
   ],
   "source": [
    "enteprise_information = pd.read_sql(\"\"\"SELECT *\n",
    "                        FROM enteprise_information\"\"\", conn)\n",
    "enteprise_information.sample(5)"
   ]
  },
  {
   "cell_type": "code",
   "execution_count": 5,
   "metadata": {},
   "outputs": [
    {
     "data": {
      "text/html": [
       "<div>\n",
       "<style scoped>\n",
       "    .dataframe tbody tr th:only-of-type {\n",
       "        vertical-align: middle;\n",
       "    }\n",
       "\n",
       "    .dataframe tbody tr th {\n",
       "        vertical-align: top;\n",
       "    }\n",
       "\n",
       "    .dataframe thead th {\n",
       "        text-align: right;\n",
       "    }\n",
       "</style>\n",
       "<table border=\"1\" class=\"dataframe\">\n",
       "  <thead>\n",
       "    <tr style=\"text-align: right;\">\n",
       "      <th></th>\n",
       "      <th>loan_id</th>\n",
       "      <th>ManagAgeui_APP</th>\n",
       "      <th>BusinFormalityOfTheBusinessui</th>\n",
       "      <th>ManagCBscoreui_APP</th>\n",
       "    </tr>\n",
       "  </thead>\n",
       "  <tbody>\n",
       "    <tr>\n",
       "      <th>526</th>\n",
       "      <td>9284</td>\n",
       "      <td>24</td>\n",
       "      <td>Cash &amp; Non Banked</td>\n",
       "      <td>696</td>\n",
       "    </tr>\n",
       "    <tr>\n",
       "      <th>1290</th>\n",
       "      <td>10287</td>\n",
       "      <td>32</td>\n",
       "      <td>Cash &amp; Non Banked</td>\n",
       "      <td>757</td>\n",
       "    </tr>\n",
       "    <tr>\n",
       "      <th>211</th>\n",
       "      <td>8872</td>\n",
       "      <td>41</td>\n",
       "      <td>Cash &amp; Non Banked</td>\n",
       "      <td>776</td>\n",
       "    </tr>\n",
       "    <tr>\n",
       "      <th>665</th>\n",
       "      <td>9458</td>\n",
       "      <td>31</td>\n",
       "      <td>Invoice &amp; Banked</td>\n",
       "      <td>802</td>\n",
       "    </tr>\n",
       "    <tr>\n",
       "      <th>180</th>\n",
       "      <td>8831</td>\n",
       "      <td>41</td>\n",
       "      <td>Cash &amp; Non Banked</td>\n",
       "      <td>636</td>\n",
       "    </tr>\n",
       "  </tbody>\n",
       "</table>\n",
       "</div>"
      ],
      "text/plain": [
       "      loan_id ManagAgeui_APP BusinFormalityOfTheBusinessui ManagCBscoreui_APP\n",
       "526      9284             24             Cash & Non Banked                696\n",
       "1290    10287             32             Cash & Non Banked                757\n",
       "211      8872             41             Cash & Non Banked                776\n",
       "665      9458             31              Invoice & Banked                802\n",
       "180      8831             41             Cash & Non Banked                636"
      ]
     },
     "execution_count": 5,
     "metadata": {},
     "output_type": "execute_result"
    }
   ],
   "source": [
    "scores_information = pd.read_sql(\"\"\"SELECT *\n",
    "                        FROM scores_information\"\"\", conn)\n",
    "scores_information.sample(5)"
   ]
  },
  {
   "cell_type": "code",
   "execution_count": 6,
   "metadata": {},
   "outputs": [
    {
     "data": {
      "text/html": [
       "<div>\n",
       "<style scoped>\n",
       "    .dataframe tbody tr th:only-of-type {\n",
       "        vertical-align: middle;\n",
       "    }\n",
       "\n",
       "    .dataframe tbody tr th {\n",
       "        vertical-align: top;\n",
       "    }\n",
       "\n",
       "    .dataframe thead th {\n",
       "        text-align: right;\n",
       "    }\n",
       "</style>\n",
       "<table border=\"1\" class=\"dataframe\">\n",
       "  <thead>\n",
       "    <tr style=\"text-align: right;\">\n",
       "      <th></th>\n",
       "      <th>account_number</th>\n",
       "      <th>net_disbursement_magnitude</th>\n",
       "      <th>transaction_Date</th>\n",
       "    </tr>\n",
       "  </thead>\n",
       "  <tbody>\n",
       "    <tr>\n",
       "      <th>863</th>\n",
       "      <td>TLWCU0001723</td>\n",
       "      <td>227309.0</td>\n",
       "      <td>2017-04-29</td>\n",
       "    </tr>\n",
       "    <tr>\n",
       "      <th>606</th>\n",
       "      <td>TLWCS0000887</td>\n",
       "      <td>88882.0</td>\n",
       "      <td>2017-03-31</td>\n",
       "    </tr>\n",
       "    <tr>\n",
       "      <th>835</th>\n",
       "      <td>TLWCU0001722</td>\n",
       "      <td>179783.0</td>\n",
       "      <td>2017-04-29</td>\n",
       "    </tr>\n",
       "    <tr>\n",
       "      <th>534</th>\n",
       "      <td>TLWCU0001622</td>\n",
       "      <td>460889.0</td>\n",
       "      <td>2017-03-31</td>\n",
       "    </tr>\n",
       "    <tr>\n",
       "      <th>1561</th>\n",
       "      <td>TLWCU0002912</td>\n",
       "      <td>923576.0</td>\n",
       "      <td>2017-07-31</td>\n",
       "    </tr>\n",
       "  </tbody>\n",
       "</table>\n",
       "</div>"
      ],
      "text/plain": [
       "     account_number  net_disbursement_magnitude transaction_Date\n",
       "863    TLWCU0001723                    227309.0       2017-04-29\n",
       "606    TLWCS0000887                     88882.0       2017-03-31\n",
       "835    TLWCU0001722                    179783.0       2017-04-29\n",
       "534    TLWCU0001622                    460889.0       2017-03-31\n",
       "1561   TLWCU0002912                    923576.0       2017-07-31"
      ]
     },
     "execution_count": 6,
     "metadata": {},
     "output_type": "execute_result"
    }
   ],
   "source": [
    "disbursements_information = pd.read_sql(\"\"\"SELECT *\n",
    "                        FROM disbursements_information\"\"\", conn)\n",
    "disbursements_information.sample(5)"
   ]
  },
  {
   "cell_type": "code",
   "execution_count": 7,
   "metadata": {},
   "outputs": [],
   "source": [
    "cur=conn.cursor()"
   ]
  },
  {
   "cell_type": "markdown",
   "metadata": {},
   "source": [
    "# Merging Tables using SQL"
   ]
  },
  {
   "cell_type": "code",
   "execution_count": 8,
   "metadata": {},
   "outputs": [],
   "source": [
    "sql_command = \"\"\"SELECT L.loan_id, L.account_number, L.customer_id, L.enterprise_id, L.screening_date, L.product_code, L.hub_id,\n",
    "                S.ManagAgeui_APP, S.BusinFormalityOfTheBusinessui, S.ManagCBscoreui_APP,\n",
    "                DI.net_disbursement_magnitude, DI.transaction_Date,\n",
    "                EI.business_type, EI.business_activity, EI.business_sector\n",
    "                FROM loan_information  L \n",
    "                LEFT JOIN scores_information S\n",
    "                ON S.loan_id == L.loan_id\n",
    "                LEFT JOIN disbursements_information DI\n",
    "                ON DI.account_number == L.account_number\n",
    "                LEFT JOIN enteprise_information EI\n",
    "                ON EI.enterprise_id == L.enterprise_id\n",
    "                ;\"\"\"\n",
    "full_database = pd.read_sql(sql_command,conn)"
   ]
  },
  {
   "cell_type": "code",
   "execution_count": 9,
   "metadata": {
    "scrolled": true
   },
   "outputs": [
    {
     "data": {
      "text/html": [
       "<div>\n",
       "<style scoped>\n",
       "    .dataframe tbody tr th:only-of-type {\n",
       "        vertical-align: middle;\n",
       "    }\n",
       "\n",
       "    .dataframe tbody tr th {\n",
       "        vertical-align: top;\n",
       "    }\n",
       "\n",
       "    .dataframe thead th {\n",
       "        text-align: right;\n",
       "    }\n",
       "</style>\n",
       "<table border=\"1\" class=\"dataframe\">\n",
       "  <thead>\n",
       "    <tr style=\"text-align: right;\">\n",
       "      <th></th>\n",
       "      <th>loan_id</th>\n",
       "      <th>account_number</th>\n",
       "      <th>customer_id</th>\n",
       "      <th>enterprise_id</th>\n",
       "      <th>screening_date</th>\n",
       "      <th>product_code</th>\n",
       "      <th>hub_id</th>\n",
       "      <th>ManagAgeui_APP</th>\n",
       "      <th>BusinFormalityOfTheBusinessui</th>\n",
       "      <th>ManagCBscoreui_APP</th>\n",
       "      <th>net_disbursement_magnitude</th>\n",
       "      <th>transaction_Date</th>\n",
       "      <th>business_type</th>\n",
       "      <th>business_activity</th>\n",
       "      <th>business_sector</th>\n",
       "    </tr>\n",
       "  </thead>\n",
       "  <tbody>\n",
       "    <tr>\n",
       "      <th>0</th>\n",
       "      <td>5692</td>\n",
       "      <td>TLMFS0000055</td>\n",
       "      <td>17850</td>\n",
       "      <td>6278</td>\n",
       "      <td>2017-03-07</td>\n",
       "      <td>TLMFS</td>\n",
       "      <td>46</td>\n",
       "      <td>32</td>\n",
       "      <td>Cash &amp; Non Banked</td>\n",
       "      <td>0</td>\n",
       "      <td>345909.0</td>\n",
       "      <td>2017-02-28</td>\n",
       "      <td>Manufacturing</td>\n",
       "      <td>Job Work</td>\n",
       "      <td>Auto Components</td>\n",
       "    </tr>\n",
       "    <tr>\n",
       "      <th>1</th>\n",
       "      <td>6190</td>\n",
       "      <td>TLWCU0001219</td>\n",
       "      <td>17857</td>\n",
       "      <td>6280</td>\n",
       "      <td>2017-03-07</td>\n",
       "      <td>TLWCU</td>\n",
       "      <td>32</td>\n",
       "      <td>35</td>\n",
       "      <td>Cash &amp; Non Banked</td>\n",
       "      <td>0</td>\n",
       "      <td>144157.0</td>\n",
       "      <td>2017-02-28</td>\n",
       "      <td>Trading</td>\n",
       "      <td>Retail</td>\n",
       "      <td>Book Stores</td>\n",
       "    </tr>\n",
       "    <tr>\n",
       "      <th>2</th>\n",
       "      <td>6191</td>\n",
       "      <td>TLAPS0000292</td>\n",
       "      <td>9481</td>\n",
       "      <td>2916</td>\n",
       "      <td>2017-03-07</td>\n",
       "      <td>TLAPS</td>\n",
       "      <td>32</td>\n",
       "      <td>32</td>\n",
       "      <td>Cash &amp; Non Banked</td>\n",
       "      <td>0</td>\n",
       "      <td>484931.0</td>\n",
       "      <td>2017-03-23</td>\n",
       "      <td>Manufacturing</td>\n",
       "      <td>Sales</td>\n",
       "      <td>Electricals</td>\n",
       "    </tr>\n",
       "    <tr>\n",
       "      <th>3</th>\n",
       "      <td>6192</td>\n",
       "      <td>LCRIU0000019</td>\n",
       "      <td>6597</td>\n",
       "      <td>32</td>\n",
       "      <td>2017-03-10</td>\n",
       "      <td>LCRIU</td>\n",
       "      <td>32</td>\n",
       "      <td>None</td>\n",
       "      <td>None</td>\n",
       "      <td>None</td>\n",
       "      <td>683859.0</td>\n",
       "      <td>2017-03-13</td>\n",
       "      <td>Manufacturing</td>\n",
       "      <td>Job Work &amp; Sales</td>\n",
       "      <td>Auto Components</td>\n",
       "    </tr>\n",
       "    <tr>\n",
       "      <th>4</th>\n",
       "      <td>6193</td>\n",
       "      <td>LCRIU0000020</td>\n",
       "      <td>9732</td>\n",
       "      <td>3167</td>\n",
       "      <td>2017-03-13</td>\n",
       "      <td>LCRIU</td>\n",
       "      <td>32</td>\n",
       "      <td>39</td>\n",
       "      <td>Cash &amp; Non Banked</td>\n",
       "      <td>548</td>\n",
       "      <td>896703.0</td>\n",
       "      <td>2017-03-15</td>\n",
       "      <td>Manufacturing</td>\n",
       "      <td>Job Work</td>\n",
       "      <td>Auto Components</td>\n",
       "    </tr>\n",
       "  </tbody>\n",
       "</table>\n",
       "</div>"
      ],
      "text/plain": [
       "   loan_id account_number  customer_id  enterprise_id screening_date  \\\n",
       "0     5692   TLMFS0000055        17850           6278     2017-03-07   \n",
       "1     6190   TLWCU0001219        17857           6280     2017-03-07   \n",
       "2     6191   TLAPS0000292         9481           2916     2017-03-07   \n",
       "3     6192   LCRIU0000019         6597             32     2017-03-10   \n",
       "4     6193   LCRIU0000020         9732           3167     2017-03-13   \n",
       "\n",
       "  product_code  hub_id ManagAgeui_APP BusinFormalityOfTheBusinessui  \\\n",
       "0        TLMFS      46             32             Cash & Non Banked   \n",
       "1        TLWCU      32             35             Cash & Non Banked   \n",
       "2        TLAPS      32             32             Cash & Non Banked   \n",
       "3        LCRIU      32           None                          None   \n",
       "4        LCRIU      32             39             Cash & Non Banked   \n",
       "\n",
       "  ManagCBscoreui_APP  net_disbursement_magnitude transaction_Date  \\\n",
       "0                  0                    345909.0       2017-02-28   \n",
       "1                  0                    144157.0       2017-02-28   \n",
       "2                  0                    484931.0       2017-03-23   \n",
       "3               None                    683859.0       2017-03-13   \n",
       "4                548                    896703.0       2017-03-15   \n",
       "\n",
       "   business_type business_activity  business_sector  \n",
       "0  Manufacturing          Job Work  Auto Components  \n",
       "1        Trading            Retail      Book Stores  \n",
       "2  Manufacturing             Sales      Electricals  \n",
       "3  Manufacturing  Job Work & Sales  Auto Components  \n",
       "4  Manufacturing          Job Work  Auto Components  "
      ]
     },
     "execution_count": 9,
     "metadata": {},
     "output_type": "execute_result"
    }
   ],
   "source": [
    "full_database.head()"
   ]
  },
  {
   "cell_type": "markdown",
   "metadata": {},
   "source": [
    "# Check:"
   ]
  },
  {
   "cell_type": "code",
   "execution_count": 10,
   "metadata": {},
   "outputs": [],
   "source": [
    "u1 = full_database.enterprise_id.unique()\n",
    "u2 = enteprise_information.enterprise_id.unique()\n",
    "for i in u2:\n",
    "    if i not in u1:\n",
    "        print('wrong')"
   ]
  },
  {
   "cell_type": "code",
   "execution_count": 11,
   "metadata": {},
   "outputs": [],
   "source": [
    "d1 = full_database.loan_id.unique()\n",
    "d2 = loan_information.loan_id.unique()\n",
    "for i in d2:\n",
    "    if i not in d1:\n",
    "        print('wrong')"
   ]
  },
  {
   "cell_type": "code",
   "execution_count": 12,
   "metadata": {},
   "outputs": [],
   "source": [
    "a1 = full_database.loan_id.unique()\n",
    "a2 = scores_information.loan_id.unique()\n",
    "for i in d2:\n",
    "    if i not in d1:\n",
    "        print('wrong')"
   ]
  },
  {
   "cell_type": "code",
   "execution_count": 13,
   "metadata": {},
   "outputs": [],
   "source": [
    "r1 = full_database.account_number.unique()\n",
    "r2 = disbursements_information.account_number.unique()\n",
    "for i in r2:\n",
    "    if i not in r1:\n",
    "        print('wrong')"
   ]
  },
  {
   "cell_type": "markdown",
   "metadata": {},
   "source": [
    "# Removing Missing Values and Converting string to float/int whenever required"
   ]
  },
  {
   "cell_type": "code",
   "execution_count": 14,
   "metadata": {},
   "outputs": [
    {
     "data": {
      "text/plain": [
       "1548"
      ]
     },
     "execution_count": 14,
     "metadata": {},
     "output_type": "execute_result"
    }
   ],
   "source": [
    "len(full_database.account_number.unique())"
   ]
  },
  {
   "cell_type": "code",
   "execution_count": 15,
   "metadata": {},
   "outputs": [
    {
     "data": {
      "text/plain": [
       "2692"
      ]
     },
     "execution_count": 15,
     "metadata": {},
     "output_type": "execute_result"
    }
   ],
   "source": [
    "len(full_database.account_number)"
   ]
  },
  {
   "cell_type": "code",
   "execution_count": 16,
   "metadata": {},
   "outputs": [
    {
     "name": "stdout",
     "output_type": "stream",
     "text": [
      "<class 'pandas.core.frame.DataFrame'>\n",
      "RangeIndex: 2692 entries, 0 to 2691\n",
      "Data columns (total 15 columns):\n",
      "loan_id                          2692 non-null int64\n",
      "account_number                   1577 non-null object\n",
      "customer_id                      2692 non-null int64\n",
      "enterprise_id                    2692 non-null int64\n",
      "screening_date                   2692 non-null object\n",
      "product_code                     1636 non-null object\n",
      "hub_id                           2692 non-null int64\n",
      "ManagAgeui_APP                   1987 non-null object\n",
      "BusinFormalityOfTheBusinessui    2061 non-null object\n",
      "ManagCBscoreui_APP               1987 non-null object\n",
      "net_disbursement_magnitude       1575 non-null float64\n",
      "transaction_Date                 1575 non-null object\n",
      "business_type                    2692 non-null object\n",
      "business_activity                2692 non-null object\n",
      "business_sector                  2690 non-null object\n",
      "dtypes: float64(1), int64(4), object(10)\n",
      "memory usage: 315.5+ KB\n"
     ]
    }
   ],
   "source": [
    "full_database.info()"
   ]
  },
  {
   "cell_type": "markdown",
   "metadata": {},
   "source": [
    "### Replacing missing ManagAgeui_APP with mean"
   ]
  },
  {
   "cell_type": "code",
   "execution_count": 17,
   "metadata": {},
   "outputs": [],
   "source": [
    "mean = full_database.ManagAgeui_APP.values\n",
    "new_mean = list()\n",
    "for i in mean:\n",
    "    try:\n",
    "        new_mean.append(int(i))\n",
    "    except:\n",
    "        continue\n",
    "mean = sum(new_mean)/len(new_mean)"
   ]
  },
  {
   "cell_type": "code",
   "execution_count": 18,
   "metadata": {},
   "outputs": [
    {
     "name": "stdout",
     "output_type": "stream",
     "text": [
      "<class 'pandas.core.frame.DataFrame'>\n",
      "RangeIndex: 2692 entries, 0 to 2691\n",
      "Data columns (total 15 columns):\n",
      "loan_id                          2692 non-null int64\n",
      "account_number                   1577 non-null object\n",
      "customer_id                      2692 non-null int64\n",
      "enterprise_id                    2692 non-null int64\n",
      "screening_date                   2692 non-null object\n",
      "product_code                     1636 non-null object\n",
      "hub_id                           2692 non-null int64\n",
      "ManagAgeui_APP                   2692 non-null object\n",
      "BusinFormalityOfTheBusinessui    2061 non-null object\n",
      "ManagCBscoreui_APP               1987 non-null object\n",
      "net_disbursement_magnitude       1575 non-null float64\n",
      "transaction_Date                 1575 non-null object\n",
      "business_type                    2692 non-null object\n",
      "business_activity                2692 non-null object\n",
      "business_sector                  2690 non-null object\n",
      "dtypes: float64(1), int64(4), object(10)\n",
      "memory usage: 315.5+ KB\n"
     ]
    }
   ],
   "source": [
    "full_database.ManagAgeui_APP.fillna(mean,inplace=True)\n",
    "full_database.info()"
   ]
  },
  {
   "cell_type": "markdown",
   "metadata": {},
   "source": [
    "### Replacing with mode"
   ]
  },
  {
   "cell_type": "code",
   "execution_count": 19,
   "metadata": {},
   "outputs": [
    {
     "data": {
      "text/plain": [
       "[('Cash & Non Banked', 1356)]"
      ]
     },
     "execution_count": 19,
     "metadata": {},
     "output_type": "execute_result"
    }
   ],
   "source": [
    "data = Counter(full_database.BusinFormalityOfTheBusinessui.values)\n",
    "data.most_common(1)"
   ]
  },
  {
   "cell_type": "code",
   "execution_count": 20,
   "metadata": {},
   "outputs": [],
   "source": [
    "full_database.BusinFormalityOfTheBusinessui.fillna('Cash & Non Banked',inplace = True)"
   ]
  },
  {
   "cell_type": "code",
   "execution_count": 21,
   "metadata": {},
   "outputs": [
    {
     "data": {
      "text/plain": [
       "array(['Auto Components', 'Book Stores', 'Electricals', ..., 'General',\n",
       "       'Machine  Components', 'Textiles'], dtype=object)"
      ]
     },
     "execution_count": 21,
     "metadata": {},
     "output_type": "execute_result"
    }
   ],
   "source": [
    "full_database.business_sector.values"
   ]
  },
  {
   "cell_type": "code",
   "execution_count": 22,
   "metadata": {},
   "outputs": [
    {
     "data": {
      "text/plain": [
       "[('Auto Components', 404)]"
      ]
     },
     "execution_count": 22,
     "metadata": {},
     "output_type": "execute_result"
    }
   ],
   "source": [
    "dat = Counter(full_database.business_sector.values)\n",
    "dat.most_common(1)"
   ]
  },
  {
   "cell_type": "code",
   "execution_count": 23,
   "metadata": {},
   "outputs": [],
   "source": [
    "full_database.business_sector.fillna('Auto Components',inplace=True)"
   ]
  },
  {
   "cell_type": "markdown",
   "metadata": {},
   "source": [
    "### Missing cibil scores are set to 0"
   ]
  },
  {
   "cell_type": "code",
   "execution_count": 24,
   "metadata": {},
   "outputs": [],
   "source": [
    "full_database.ManagCBscoreui_APP = full_database.ManagCBscoreui_APP.fillna(0)"
   ]
  },
  {
   "cell_type": "markdown",
   "metadata": {},
   "source": [
    "### Conversion to int"
   ]
  },
  {
   "cell_type": "code",
   "execution_count": 25,
   "metadata": {},
   "outputs": [],
   "source": [
    "def encode_net_disbursement_magnitude(value):\n",
    "    try:\n",
    "        value = int(value)\n",
    "        return 1\n",
    "    except:\n",
    "        return 0\n",
    "full_database.net_disbursement_magnitude = full_database.net_disbursement_magnitude.apply(lambda x: encode_net_disbursement_magnitude(x))"
   ]
  },
  {
   "cell_type": "code",
   "execution_count": 26,
   "metadata": {},
   "outputs": [
    {
     "name": "stdout",
     "output_type": "stream",
     "text": [
      "<class 'pandas.core.frame.DataFrame'>\n",
      "RangeIndex: 2692 entries, 0 to 2691\n",
      "Data columns (total 15 columns):\n",
      "loan_id                          2692 non-null int64\n",
      "account_number                   1577 non-null object\n",
      "customer_id                      2692 non-null int64\n",
      "enterprise_id                    2692 non-null int64\n",
      "screening_date                   2692 non-null object\n",
      "product_code                     1636 non-null object\n",
      "hub_id                           2692 non-null int64\n",
      "ManagAgeui_APP                   2692 non-null object\n",
      "BusinFormalityOfTheBusinessui    2692 non-null object\n",
      "ManagCBscoreui_APP               2692 non-null object\n",
      "net_disbursement_magnitude       2692 non-null int64\n",
      "transaction_Date                 1575 non-null object\n",
      "business_type                    2692 non-null object\n",
      "business_activity                2692 non-null object\n",
      "business_sector                  2692 non-null object\n",
      "dtypes: int64(5), object(10)\n",
      "memory usage: 315.5+ KB\n"
     ]
    }
   ],
   "source": [
    "full_database.info()"
   ]
  },
  {
   "cell_type": "markdown",
   "metadata": {},
   "source": [
    "# Collateral"
   ]
  },
  {
   "cell_type": "code",
   "execution_count": 27,
   "metadata": {
    "scrolled": true
   },
   "outputs": [],
   "source": [
    "def get_collateral(string):\n",
    "    string = str(string)\n",
    "    if string[-1] == 'U':\n",
    "        return 'Unsecured'\n",
    "    elif string[-1] == 'S':\n",
    "        return \"Secured\"\n",
    "    return 'Unknown'\n",
    "full_database['collateral'] = full_database.product_code.apply(lambda x: get_collateral(x))"
   ]
  },
  {
   "cell_type": "code",
   "execution_count": 28,
   "metadata": {},
   "outputs": [
    {
     "name": "stdout",
     "output_type": "stream",
     "text": [
      "<class 'pandas.core.frame.DataFrame'>\n",
      "RangeIndex: 2692 entries, 0 to 2691\n",
      "Data columns (total 16 columns):\n",
      "loan_id                          2692 non-null int64\n",
      "account_number                   1577 non-null object\n",
      "customer_id                      2692 non-null int64\n",
      "enterprise_id                    2692 non-null int64\n",
      "screening_date                   2692 non-null object\n",
      "product_code                     1636 non-null object\n",
      "hub_id                           2692 non-null int64\n",
      "ManagAgeui_APP                   2692 non-null object\n",
      "BusinFormalityOfTheBusinessui    2692 non-null object\n",
      "ManagCBscoreui_APP               2692 non-null object\n",
      "net_disbursement_magnitude       2692 non-null int64\n",
      "transaction_Date                 1575 non-null object\n",
      "business_type                    2692 non-null object\n",
      "business_activity                2692 non-null object\n",
      "business_sector                  2692 non-null object\n",
      "collateral                       2692 non-null object\n",
      "dtypes: int64(5), object(11)\n",
      "memory usage: 336.6+ KB\n"
     ]
    }
   ],
   "source": [
    "full_database.info()"
   ]
  },
  {
   "cell_type": "code",
   "execution_count": 29,
   "metadata": {
    "scrolled": true
   },
   "outputs": [],
   "source": [
    "full_database['year'] = full_database.screening_date.apply(lambda x: int(x[:4]))\n",
    "full_database['month'] = full_database.screening_date.apply(lambda x: int(x[5:7]))\n",
    "full_database['day'] = full_database.screening_date.apply(lambda x: int(x[8:]))\n"
   ]
  },
  {
   "cell_type": "code",
   "execution_count": 30,
   "metadata": {},
   "outputs": [
    {
     "data": {
      "text/plain": [
       "array(['Manufacturing', 'Trading', 'Manufacturing', ..., 'Trading',\n",
       "       'Manufacturing', 'Manufacturing'], dtype=object)"
      ]
     },
     "execution_count": 30,
     "metadata": {},
     "output_type": "execute_result"
    }
   ],
   "source": [
    "full_database.business_type.values"
   ]
  },
  {
   "cell_type": "markdown",
   "metadata": {},
   "source": [
    "### Exploratory Data Analysis"
   ]
  },
  {
   "cell_type": "code",
   "execution_count": 31,
   "metadata": {},
   "outputs": [
    {
     "data": {
      "text/plain": [
       "<matplotlib.axes._subplots.AxesSubplot at 0x1e223d1cba8>"
      ]
     },
     "execution_count": 31,
     "metadata": {},
     "output_type": "execute_result"
    },
    {
     "data": {
      "image/png": "[encoded data removed]",
      "text/plain": [
       "<Figure size 432x288 with 1 Axes>"
      ]
     },
     "metadata": {},
     "output_type": "display_data"
    }
   ],
   "source": [
    "sns.kdeplot(full_database.ManagAgeui_APP)"
   ]
  },
  {
   "cell_type": "code",
   "execution_count": 32,
   "metadata": {},
   "outputs": [
    {
     "data": {
      "text/plain": [
       "<matplotlib.axes._subplots.AxesSubplot at 0x1e224239c18>"
      ]
     },
     "execution_count": 32,
     "metadata": {},
     "output_type": "execute_result"
    },
    {
     "data": {
      "image/png": "[encoded data removed]",
      "text/plain": [
       "<Figure size 432x288 with 1 Axes>"
      ]
     },
     "metadata": {},
     "output_type": "display_data"
    }
   ],
   "source": [
    "sns.kdeplot(full_database.query('net_disbursement_magnitude< 2000000').net_disbursement_magnitude)"
   ]
  },
  {
   "cell_type": "code",
   "execution_count": 33,
   "metadata": {},
   "outputs": [
    {
     "data": {
      "image/png": "[encoded data removed]",
      "text/plain": [
       "<Figure size 432x288 with 1 Axes>"
      ]
     },
     "metadata": {},
     "output_type": "display_data"
    }
   ],
   "source": [
    "sns.barplot(x=\"business_type\", y=\"net_disbursement_magnitude\",data=full_database)\n",
    "plt.show()"
   ]
  },
  {
   "cell_type": "code",
   "execution_count": 34,
   "metadata": {},
   "outputs": [
    {
     "data": {
      "image/png": "[encoded data removed]",
      "text/plain": [
       "<Figure size 432x288 with 1 Axes>"
      ]
     },
     "metadata": {},
     "output_type": "display_data"
    }
   ],
   "source": [
    "a = sns.barplot(x=\"business_activity\", y=\"net_disbursement_magnitude\",data=full_database)\n",
    "a.figure.tight_layout()\n",
    "a.set_xticklabels(a.get_xticklabels(),rotation=30)\n",
    "plt.show()"
   ]
  },
  {
   "cell_type": "code",
   "execution_count": 35,
   "metadata": {},
   "outputs": [
    {
     "data": {
      "image/png": "[encoded data removed]",
      "text/plain": [
       "<Figure size 842.4x595.44 with 1 Axes>"
      ]
     },
     "metadata": {},
     "output_type": "display_data"
    }
   ],
   "source": [
    "sns.set(rc={'figure.figsize':(11.7,8.27)})\n",
    "a = sns.barplot(x=\"collateral\", y=\"net_disbursement_magnitude\",data=full_database)\n",
    "a.figure.tight_layout()\n",
    "a.set_xticklabels(a.get_xticklabels(),rotation=85)\n",
    "plt.show()"
   ]
  },
  {
   "cell_type": "code",
   "execution_count": 36,
   "metadata": {},
   "outputs": [
    {
     "data": {
      "image/png": "[encoded data removed]",
      "text/plain": [
       "<Figure size 842.4x595.44 with 1 Axes>"
      ]
     },
     "metadata": {},
     "output_type": "display_data"
    }
   ],
   "source": [
    "sns.boxplot(x=\"business_activity\", y=\"net_disbursement_magnitude\",data=full_database)\n",
    "plt.show()"
   ]
  },
  {
   "cell_type": "code",
   "execution_count": 37,
   "metadata": {},
   "outputs": [],
   "source": [
    "relevant_columns = ['ManagAgeui_APP','BusinFormalityOfTheBusinessui','ManagCBscoreui_APP','net_disbursement_magnitude',\n",
    "                   'business_type','business_activity','business_sector','year','month','day','collateral']"
   ]
  },
  {
   "cell_type": "code",
   "execution_count": 38,
   "metadata": {},
   "outputs": [],
   "source": [
    "full_database = full_database[relevant_columns]"
   ]
  },
  {
   "cell_type": "code",
   "execution_count": 39,
   "metadata": {
    "scrolled": true
   },
   "outputs": [
    {
     "name": "stdout",
     "output_type": "stream",
     "text": [
      "<class 'pandas.core.frame.DataFrame'>\n",
      "RangeIndex: 2692 entries, 0 to 2691\n",
      "Data columns (total 11 columns):\n",
      "ManagAgeui_APP                   2692 non-null object\n",
      "BusinFormalityOfTheBusinessui    2692 non-null object\n",
      "ManagCBscoreui_APP               2692 non-null object\n",
      "net_disbursement_magnitude       2692 non-null int64\n",
      "business_type                    2692 non-null object\n",
      "business_activity                2692 non-null object\n",
      "business_sector                  2692 non-null object\n",
      "year                             2692 non-null int64\n",
      "month                            2692 non-null int64\n",
      "day                              2692 non-null int64\n",
      "collateral                       2692 non-null object\n",
      "dtypes: int64(4), object(7)\n",
      "memory usage: 231.4+ KB\n"
     ]
    }
   ],
   "source": [
    "full_database.info()"
   ]
  },
  {
   "cell_type": "code",
   "execution_count": 40,
   "metadata": {
    "scrolled": true
   },
   "outputs": [],
   "source": [
    "full_database.ManagAgeui_APP = full_database.ManagAgeui_APP.apply(lambda x: float(x))"
   ]
  },
  {
   "cell_type": "code",
   "execution_count": 41,
   "metadata": {},
   "outputs": [],
   "source": [
    "temp = pd.get_dummies(full_database.BusinFormalityOfTheBusinessui)"
   ]
  },
  {
   "cell_type": "code",
   "execution_count": 42,
   "metadata": {},
   "outputs": [],
   "source": [
    "full_database = pd.concat([full_database,temp],axis = 1)"
   ]
  },
  {
   "cell_type": "code",
   "execution_count": 43,
   "metadata": {},
   "outputs": [],
   "source": [
    "full_database.ManagCBscoreui_APP = full_database.ManagCBscoreui_APP.apply(lambda x: int(x))"
   ]
  },
  {
   "cell_type": "code",
   "execution_count": 44,
   "metadata": {},
   "outputs": [],
   "source": [
    "temp = pd.get_dummies(full_database.business_type)\n",
    "full_database = pd.concat([full_database,temp],axis = 1)"
   ]
  },
  {
   "cell_type": "code",
   "execution_count": 45,
   "metadata": {},
   "outputs": [],
   "source": [
    "def others(string):\n",
    "    if string in ['Auto Components','Food Products','Textiles','Plastics','Fashion','Fabrication','Food & Beverage','Machine  Components']:\n",
    "        return string\n",
    "    return 'Others'"
   ]
  },
  {
   "cell_type": "code",
   "execution_count": 46,
   "metadata": {
    "scrolled": false
   },
   "outputs": [],
   "source": [
    "full_database.business_sector = full_database.business_sector.apply(lambda x: others(x))"
   ]
  },
  {
   "cell_type": "code",
   "execution_count": 47,
   "metadata": {},
   "outputs": [],
   "source": [
    "temp = pd.get_dummies(full_database.business_sector)\n",
    "full_database = pd.concat([full_database,temp],axis = 1)\n",
    "temp = pd.get_dummies(full_database.business_activity)\n",
    "full_database = pd.concat([full_database,temp],axis = 1)\n",
    "temp = pd.get_dummies(full_database.collateral)\n",
    "full_database = pd.concat([full_database,temp],axis = 1)"
   ]
  },
  {
   "cell_type": "code",
   "execution_count": 48,
   "metadata": {},
   "outputs": [],
   "source": [
    "full_database.drop(['BusinFormalityOfTheBusinessui','business_type','business_activity','business_sector','collateral'],axis = 1, inplace = True)"
   ]
  },
  {
   "cell_type": "code",
   "execution_count": 49,
   "metadata": {},
   "outputs": [
    {
     "name": "stdout",
     "output_type": "stream",
     "text": [
      "<class 'pandas.core.frame.DataFrame'>\n",
      "RangeIndex: 2692 entries, 0 to 2691\n",
      "Data columns (total 32 columns):\n",
      "ManagAgeui_APP                   2692 non-null float64\n",
      "ManagCBscoreui_APP               2692 non-null int64\n",
      "net_disbursement_magnitude       2692 non-null int64\n",
      "year                             2692 non-null int64\n",
      "month                            2692 non-null int64\n",
      "day                              2692 non-null int64\n",
      "Cash & Banked                    2692 non-null uint8\n",
      "Cash & Non Banked                2692 non-null uint8\n",
      "Invoice & Banked                 2692 non-null uint8\n",
      "Invoice & Non Banked             2692 non-null uint8\n",
      "Manufacturing                    2692 non-null uint8\n",
      "Services                         2692 non-null uint8\n",
      "Trading                          2692 non-null uint8\n",
      "Auto Components                  2692 non-null uint8\n",
      "Fabrication                      2692 non-null uint8\n",
      "Fashion                          2692 non-null uint8\n",
      "Food & Beverage                  2692 non-null uint8\n",
      "Food Products                    2692 non-null uint8\n",
      "Machine  Components              2692 non-null uint8\n",
      "Others                           2692 non-null uint8\n",
      "Plastics                         2692 non-null uint8\n",
      "Textiles                         2692 non-null uint8\n",
      "Job Work                         2692 non-null uint8\n",
      "Job Work & Sales                 2692 non-null uint8\n",
      "Retail                           2692 non-null uint8\n",
      "Retail (Business to Business)    2692 non-null uint8\n",
      "Retail (Business to Customer)    2692 non-null uint8\n",
      "Sales                            2692 non-null uint8\n",
      "Whole Sale                       2692 non-null uint8\n",
      "Secured                          2692 non-null uint8\n",
      "Unknown                          2692 non-null uint8\n",
      "Unsecured                        2692 non-null uint8\n",
      "dtypes: float64(1), int64(5), uint8(26)\n",
      "memory usage: 194.6 KB\n"
     ]
    }
   ],
   "source": [
    "full_database.info()"
   ]
  },
  {
   "cell_type": "code",
   "execution_count": 50,
   "metadata": {},
   "outputs": [],
   "source": [
    "#Cibil scores\n",
    "\n",
    "def get_bins(value):\n",
    "    if value < 200:\n",
    "        return -1\n",
    "    elif 200 < value < 650:\n",
    "        return 0\n",
    "    else:\n",
    "        return 1"
   ]
  },
  {
   "cell_type": "code",
   "execution_count": 51,
   "metadata": {},
   "outputs": [],
   "source": [
    "full_database.ManagCBscoreui_APP = full_database.ManagCBscoreui_APP.apply(lambda x: get_bins(int(x)))"
   ]
  },
  {
   "cell_type": "code",
   "execution_count": 52,
   "metadata": {},
   "outputs": [
    {
     "data": {
      "text/html": [
       "<div>\n",
       "<style scoped>\n",
       "    .dataframe tbody tr th:only-of-type {\n",
       "        vertical-align: middle;\n",
       "    }\n",
       "\n",
       "    .dataframe tbody tr th {\n",
       "        vertical-align: top;\n",
       "    }\n",
       "\n",
       "    .dataframe thead th {\n",
       "        text-align: right;\n",
       "    }\n",
       "</style>\n",
       "<table border=\"1\" class=\"dataframe\">\n",
       "  <thead>\n",
       "    <tr style=\"text-align: right;\">\n",
       "      <th></th>\n",
       "      <th>ManagAgeui_APP</th>\n",
       "      <th>ManagCBscoreui_APP</th>\n",
       "      <th>net_disbursement_magnitude</th>\n",
       "      <th>year</th>\n",
       "      <th>month</th>\n",
       "      <th>day</th>\n",
       "      <th>Cash &amp; Banked</th>\n",
       "      <th>Cash &amp; Non Banked</th>\n",
       "      <th>Invoice &amp; Banked</th>\n",
       "      <th>Invoice &amp; Non Banked</th>\n",
       "      <th>...</th>\n",
       "      <th>Job Work</th>\n",
       "      <th>Job Work &amp; Sales</th>\n",
       "      <th>Retail</th>\n",
       "      <th>Retail (Business to Business)</th>\n",
       "      <th>Retail (Business to Customer)</th>\n",
       "      <th>Sales</th>\n",
       "      <th>Whole Sale</th>\n",
       "      <th>Secured</th>\n",
       "      <th>Unknown</th>\n",
       "      <th>Unsecured</th>\n",
       "    </tr>\n",
       "  </thead>\n",
       "  <tbody>\n",
       "    <tr>\n",
       "      <th>0</th>\n",
       "      <td>32.000000</td>\n",
       "      <td>-1</td>\n",
       "      <td>1</td>\n",
       "      <td>2017</td>\n",
       "      <td>3</td>\n",
       "      <td>7</td>\n",
       "      <td>0</td>\n",
       "      <td>1</td>\n",
       "      <td>0</td>\n",
       "      <td>0</td>\n",
       "      <td>...</td>\n",
       "      <td>1</td>\n",
       "      <td>0</td>\n",
       "      <td>0</td>\n",
       "      <td>0</td>\n",
       "      <td>0</td>\n",
       "      <td>0</td>\n",
       "      <td>0</td>\n",
       "      <td>1</td>\n",
       "      <td>0</td>\n",
       "      <td>0</td>\n",
       "    </tr>\n",
       "    <tr>\n",
       "      <th>1</th>\n",
       "      <td>35.000000</td>\n",
       "      <td>-1</td>\n",
       "      <td>1</td>\n",
       "      <td>2017</td>\n",
       "      <td>3</td>\n",
       "      <td>7</td>\n",
       "      <td>0</td>\n",
       "      <td>1</td>\n",
       "      <td>0</td>\n",
       "      <td>0</td>\n",
       "      <td>...</td>\n",
       "      <td>0</td>\n",
       "      <td>0</td>\n",
       "      <td>1</td>\n",
       "      <td>0</td>\n",
       "      <td>0</td>\n",
       "      <td>0</td>\n",
       "      <td>0</td>\n",
       "      <td>0</td>\n",
       "      <td>0</td>\n",
       "      <td>1</td>\n",
       "    </tr>\n",
       "    <tr>\n",
       "      <th>2</th>\n",
       "      <td>32.000000</td>\n",
       "      <td>-1</td>\n",
       "      <td>1</td>\n",
       "      <td>2017</td>\n",
       "      <td>3</td>\n",
       "      <td>7</td>\n",
       "      <td>0</td>\n",
       "      <td>1</td>\n",
       "      <td>0</td>\n",
       "      <td>0</td>\n",
       "      <td>...</td>\n",
       "      <td>0</td>\n",
       "      <td>0</td>\n",
       "      <td>0</td>\n",
       "      <td>0</td>\n",
       "      <td>0</td>\n",
       "      <td>1</td>\n",
       "      <td>0</td>\n",
       "      <td>1</td>\n",
       "      <td>0</td>\n",
       "      <td>0</td>\n",
       "    </tr>\n",
       "    <tr>\n",
       "      <th>3</th>\n",
       "      <td>38.090086</td>\n",
       "      <td>-1</td>\n",
       "      <td>1</td>\n",
       "      <td>2017</td>\n",
       "      <td>3</td>\n",
       "      <td>10</td>\n",
       "      <td>0</td>\n",
       "      <td>1</td>\n",
       "      <td>0</td>\n",
       "      <td>0</td>\n",
       "      <td>...</td>\n",
       "      <td>0</td>\n",
       "      <td>1</td>\n",
       "      <td>0</td>\n",
       "      <td>0</td>\n",
       "      <td>0</td>\n",
       "      <td>0</td>\n",
       "      <td>0</td>\n",
       "      <td>0</td>\n",
       "      <td>0</td>\n",
       "      <td>1</td>\n",
       "    </tr>\n",
       "    <tr>\n",
       "      <th>4</th>\n",
       "      <td>39.000000</td>\n",
       "      <td>0</td>\n",
       "      <td>1</td>\n",
       "      <td>2017</td>\n",
       "      <td>3</td>\n",
       "      <td>13</td>\n",
       "      <td>0</td>\n",
       "      <td>1</td>\n",
       "      <td>0</td>\n",
       "      <td>0</td>\n",
       "      <td>...</td>\n",
       "      <td>1</td>\n",
       "      <td>0</td>\n",
       "      <td>0</td>\n",
       "      <td>0</td>\n",
       "      <td>0</td>\n",
       "      <td>0</td>\n",
       "      <td>0</td>\n",
       "      <td>0</td>\n",
       "      <td>0</td>\n",
       "      <td>1</td>\n",
       "    </tr>\n",
       "  </tbody>\n",
       "</table>\n",
       "<p>5 rows × 32 columns</p>\n",
       "</div>"
      ],
      "text/plain": [
       "   ManagAgeui_APP  ManagCBscoreui_APP  net_disbursement_magnitude  year  \\\n",
       "0       32.000000                  -1                           1  2017   \n",
       "1       35.000000                  -1                           1  2017   \n",
       "2       32.000000                  -1                           1  2017   \n",
       "3       38.090086                  -1                           1  2017   \n",
       "4       39.000000                   0                           1  2017   \n",
       "\n",
       "   month  day  Cash & Banked  Cash & Non Banked  Invoice & Banked  \\\n",
       "0      3    7              0                  1                 0   \n",
       "1      3    7              0                  1                 0   \n",
       "2      3    7              0                  1                 0   \n",
       "3      3   10              0                  1                 0   \n",
       "4      3   13              0                  1                 0   \n",
       "\n",
       "   Invoice & Non Banked    ...      Job Work  Job Work & Sales  Retail  \\\n",
       "0                     0    ...             1                 0       0   \n",
       "1                     0    ...             0                 0       1   \n",
       "2                     0    ...             0                 0       0   \n",
       "3                     0    ...             0                 1       0   \n",
       "4                     0    ...             1                 0       0   \n",
       "\n",
       "   Retail (Business to Business)  Retail (Business to Customer)  Sales  \\\n",
       "0                              0                              0      0   \n",
       "1                              0                              0      0   \n",
       "2                              0                              0      1   \n",
       "3                              0                              0      0   \n",
       "4                              0                              0      0   \n",
       "\n",
       "   Whole Sale  Secured  Unknown  Unsecured  \n",
       "0           0        1        0          0  \n",
       "1           0        0        0          1  \n",
       "2           0        1        0          0  \n",
       "3           0        0        0          1  \n",
       "4           0        0        0          1  \n",
       "\n",
       "[5 rows x 32 columns]"
      ]
     },
     "execution_count": 52,
     "metadata": {},
     "output_type": "execute_result"
    }
   ],
   "source": [
    "full_database.head()"
   ]
  },
  {
   "cell_type": "code",
   "execution_count": 53,
   "metadata": {},
   "outputs": [
    {
     "data": {
      "text/plain": [
       "2692"
      ]
     },
     "execution_count": 53,
     "metadata": {},
     "output_type": "execute_result"
    }
   ],
   "source": [
    "len(full_database)"
   ]
  },
  {
   "cell_type": "markdown",
   "metadata": {},
   "source": [
    "# Random Forest"
   ]
  },
  {
   "cell_type": "code",
   "execution_count": 54,
   "metadata": {},
   "outputs": [],
   "source": [
    "full_database = full_database.sample(frac=1)"
   ]
  },
  {
   "cell_type": "code",
   "execution_count": 55,
   "metadata": {},
   "outputs": [
    {
     "data": {
      "text/plain": [
       "RandomForestClassifier(bootstrap=True, class_weight=None, criterion='gini',\n",
       "            max_depth=None, max_features='auto', max_leaf_nodes=None,\n",
       "            min_impurity_decrease=0.0, min_impurity_split=None,\n",
       "            min_samples_leaf=1, min_samples_split=2,\n",
       "            min_weight_fraction_leaf=0.0, n_estimators=10, n_jobs=1,\n",
       "            oob_score=False, random_state=None, verbose=0,\n",
       "            warm_start=False)"
      ]
     },
     "execution_count": 55,
     "metadata": {},
     "output_type": "execute_result"
    }
   ],
   "source": [
    "train = full_database[:2000]\n",
    "test = full_database[2000:]\n",
    "\n",
    "train_x = train.drop(['net_disbursement_magnitude'],axis = 1)\n",
    "train_y = train['net_disbursement_magnitude']\n",
    "\n",
    "test_x = test.drop(['net_disbursement_magnitude'],axis = 1)\n",
    "test_y = test['net_disbursement_magnitude']\n",
    "rf = RandomForestClassifier()\n",
    "rf.fit(train_x,train_y)"
   ]
  },
  {
   "cell_type": "markdown",
   "metadata": {},
   "source": [
    "### Feature Importance"
   ]
  },
  {
   "cell_type": "code",
   "execution_count": 56,
   "metadata": {},
   "outputs": [
    {
     "data": {
      "image/png": "[encoded data removed]",
      "text/plain": [
       "<Figure size 842.4x595.44 with 1 Axes>"
      ]
     },
     "metadata": {},
     "output_type": "display_data"
    }
   ],
   "source": [
    "importances = rf.feature_importances_\n",
    "std = np.std([tree.feature_importances_ for tree in rf.estimators_],\n",
    "             axis=0)\n",
    "indices = np.argsort(importances)\n",
    "\n",
    "# Plot the feature importances of the forest\n",
    "plt.figure()\n",
    "plt.title(\"Feature importances\")\n",
    "plt.barh(range(train_x.shape[1]), importances[indices],\n",
    "       color=\"r\", xerr=std[indices], align=\"center\")\n",
    "# If you want to define your own labels,\n",
    "# change indices to a list of labels on the following line.\n",
    "\n",
    "plt.yticks(range(train_x.shape[1]), indices)\n",
    "plt.ylim([-1, train_x.shape[1]])\n",
    "plt.show()"
   ]
  },
  {
   "cell_type": "code",
   "execution_count": 57,
   "metadata": {},
   "outputs": [],
   "source": [
    "from sklearn.metrics import accuracy_score"
   ]
  },
  {
   "cell_type": "code",
   "execution_count": 58,
   "metadata": {},
   "outputs": [],
   "source": [
    "predictions = rf.predict(test_x)"
   ]
  },
  {
   "cell_type": "markdown",
   "metadata": {},
   "source": [
    "# Accuracy of Random Forest Model"
   ]
  },
  {
   "cell_type": "code",
   "execution_count": 59,
   "metadata": {},
   "outputs": [
    {
     "data": {
      "text/plain": [
       "0.9710982658959537"
      ]
     },
     "execution_count": 59,
     "metadata": {},
     "output_type": "execute_result"
    }
   ],
   "source": [
    "accuracy_score(test_y,predictions)"
   ]
  }
 ],
 "metadata": {
  "kernelspec": {
   "display_name": "Python 3",
   "language": "python",
   "name": "python3"
  },
  "language_info": {
   "codemirror_mode": {
    "name": "ipython",
    "version": 3
   },
   "file_extension": ".py",
   "mimetype": "text/x-python",
   "name": "python",
   "nbconvert_exporter": "python",
   "pygments_lexer": "ipython3",
   "version": "3.6.5"
  }
 },
 "nbformat": 4,
 "nbformat_minor": 2
}
